{
 "cells": [
  {
   "attachments": {},
   "cell_type": "markdown",
   "id": "1d71cdc6",
   "metadata": {},
   "source": [
    "# Forex Trend Prediction"
   ]
  },
  {
   "cell_type": "markdown",
   "id": "2d9599f9",
   "metadata": {},
   "source": [
    "Trend Analysis on XAUUSD pair and build a model to predict the trend and the price"
   ]
  },
  {
   "cell_type": "code",
   "execution_count": 19,
   "id": "45551dee",
   "metadata": {},
   "outputs": [],
   "source": [
    "# Importing Libraries\n",
    "\n",
    "import pandas as pd\n",
    "import numpy as np\n",
    "import matplotlib.pyplot as plt\n",
    "import seaborn as sns"
   ]
  },
  {
   "cell_type": "markdown",
   "id": "72caada5",
   "metadata": {},
   "source": [
    "## Dataset Load"
   ]
  },
  {
   "cell_type": "code",
   "execution_count": 21,
   "id": "a101c6f0",
   "metadata": {},
   "outputs": [
    {
     "data": {
      "text/html": [
       "<div>\n",
       "<style scoped>\n",
       "    .dataframe tbody tr th:only-of-type {\n",
       "        vertical-align: middle;\n",
       "    }\n",
       "\n",
       "    .dataframe tbody tr th {\n",
       "        vertical-align: top;\n",
       "    }\n",
       "\n",
       "    .dataframe thead th {\n",
       "        text-align: right;\n",
       "    }\n",
       "</style>\n",
       "<table border=\"1\" class=\"dataframe\">\n",
       "  <thead>\n",
       "    <tr style=\"text-align: right;\">\n",
       "      <th></th>\n",
       "      <th>Date</th>\n",
       "      <th>Price</th>\n",
       "      <th>Open</th>\n",
       "      <th>High</th>\n",
       "      <th>Low</th>\n",
       "      <th>Vol.</th>\n",
       "      <th>Change %</th>\n",
       "    </tr>\n",
       "  </thead>\n",
       "  <tbody>\n",
       "    <tr>\n",
       "      <th>0</th>\n",
       "      <td>12/31/2024</td>\n",
       "      <td>2,623.81</td>\n",
       "      <td>2,606.13</td>\n",
       "      <td>2,627.85</td>\n",
       "      <td>2,602.50</td>\n",
       "      <td>NaN</td>\n",
       "      <td>0.71%</td>\n",
       "    </tr>\n",
       "    <tr>\n",
       "      <th>1</th>\n",
       "      <td>12/30/2024</td>\n",
       "      <td>2,605.39</td>\n",
       "      <td>2,620.30</td>\n",
       "      <td>2,628.61</td>\n",
       "      <td>2,595.90</td>\n",
       "      <td>NaN</td>\n",
       "      <td>-0.56%</td>\n",
       "    </tr>\n",
       "    <tr>\n",
       "      <th>2</th>\n",
       "      <td>12/27/2024</td>\n",
       "      <td>2,620.00</td>\n",
       "      <td>2,634.59</td>\n",
       "      <td>2,638.74</td>\n",
       "      <td>2,611.30</td>\n",
       "      <td>NaN</td>\n",
       "      <td>-0.55%</td>\n",
       "    </tr>\n",
       "    <tr>\n",
       "      <th>3</th>\n",
       "      <td>12/26/2024</td>\n",
       "      <td>2,634.43</td>\n",
       "      <td>2,619.79</td>\n",
       "      <td>2,639.40</td>\n",
       "      <td>2,614.13</td>\n",
       "      <td>NaN</td>\n",
       "      <td>0.81%</td>\n",
       "    </tr>\n",
       "    <tr>\n",
       "      <th>4</th>\n",
       "      <td>12/24/2024</td>\n",
       "      <td>2,613.20</td>\n",
       "      <td>2,613.07</td>\n",
       "      <td>2,621.83</td>\n",
       "      <td>2,609.92</td>\n",
       "      <td>NaN</td>\n",
       "      <td>0.01%</td>\n",
       "    </tr>\n",
       "  </tbody>\n",
       "</table>\n",
       "</div>"
      ],
      "text/plain": [
       "         Date     Price      Open      High       Low Vol. Change %\n",
       "0  12/31/2024  2,623.81  2,606.13  2,627.85  2,602.50  NaN    0.71%\n",
       "1  12/30/2024  2,605.39  2,620.30  2,628.61  2,595.90  NaN   -0.56%\n",
       "2  12/27/2024  2,620.00  2,634.59  2,638.74  2,611.30  NaN   -0.55%\n",
       "3  12/26/2024  2,634.43  2,619.79  2,639.40  2,614.13  NaN    0.81%\n",
       "4  12/24/2024  2,613.20  2,613.07  2,621.83  2,609.92  NaN    0.01%"
      ]
     },
     "execution_count": 21,
     "metadata": {},
     "output_type": "execute_result"
    }
   ],
   "source": [
    "xauusd = pd.read_csv(r'C:\\Users\\Arie\\Documents\\Portfolio\\Forex Trend Analysis Project\\XAU_USD Historical Data (1).csv')\n",
    "xauusd.head()"
   ]
  },
  {
   "cell_type": "code",
   "execution_count": 22,
   "id": "6bdf8c29",
   "metadata": {},
   "outputs": [
    {
     "data": {
      "text/plain": [
       "(2863, 7)"
      ]
     },
     "execution_count": 22,
     "metadata": {},
     "output_type": "execute_result"
    }
   ],
   "source": [
    "xauusd.shape"
   ]
  },
  {
   "cell_type": "markdown",
   "id": "0149b316",
   "metadata": {},
   "source": [
    "## Data Cleaning"
   ]
  },
  {
   "cell_type": "markdown",
   "id": "e50b57ef",
   "metadata": {},
   "source": [
    "### Missing Value Handling"
   ]
  },
  {
   "cell_type": "code",
   "execution_count": 23,
   "id": "8119c7dc",
   "metadata": {},
   "outputs": [
    {
     "data": {
      "text/plain": [
       "Date           0\n",
       "Price          0\n",
       "Open           0\n",
       "High           0\n",
       "Low            0\n",
       "Vol.        2862\n",
       "Change %       0\n",
       "dtype: int64"
      ]
     },
     "execution_count": 23,
     "metadata": {},
     "output_type": "execute_result"
    }
   ],
   "source": [
    "xauusd.isna().sum()"
   ]
  },
  {
   "cell_type": "markdown",
   "id": "48092919",
   "metadata": {},
   "source": [
    "As we can see the Volume column have almost 90% missing value so we decided to drop the column"
   ]
  },
  {
   "cell_type": "code",
   "execution_count": 24,
   "id": "e4be05ca",
   "metadata": {},
   "outputs": [
    {
     "data": {
      "text/html": [
       "<div>\n",
       "<style scoped>\n",
       "    .dataframe tbody tr th:only-of-type {\n",
       "        vertical-align: middle;\n",
       "    }\n",
       "\n",
       "    .dataframe tbody tr th {\n",
       "        vertical-align: top;\n",
       "    }\n",
       "\n",
       "    .dataframe thead th {\n",
       "        text-align: right;\n",
       "    }\n",
       "</style>\n",
       "<table border=\"1\" class=\"dataframe\">\n",
       "  <thead>\n",
       "    <tr style=\"text-align: right;\">\n",
       "      <th></th>\n",
       "      <th>Date</th>\n",
       "      <th>Price</th>\n",
       "      <th>Open</th>\n",
       "      <th>High</th>\n",
       "      <th>Low</th>\n",
       "      <th>Change %</th>\n",
       "    </tr>\n",
       "  </thead>\n",
       "  <tbody>\n",
       "    <tr>\n",
       "      <th>0</th>\n",
       "      <td>12/31/2024</td>\n",
       "      <td>2,623.81</td>\n",
       "      <td>2,606.13</td>\n",
       "      <td>2,627.85</td>\n",
       "      <td>2,602.50</td>\n",
       "      <td>0.71%</td>\n",
       "    </tr>\n",
       "    <tr>\n",
       "      <th>1</th>\n",
       "      <td>12/30/2024</td>\n",
       "      <td>2,605.39</td>\n",
       "      <td>2,620.30</td>\n",
       "      <td>2,628.61</td>\n",
       "      <td>2,595.90</td>\n",
       "      <td>-0.56%</td>\n",
       "    </tr>\n",
       "    <tr>\n",
       "      <th>2</th>\n",
       "      <td>12/27/2024</td>\n",
       "      <td>2,620.00</td>\n",
       "      <td>2,634.59</td>\n",
       "      <td>2,638.74</td>\n",
       "      <td>2,611.30</td>\n",
       "      <td>-0.55%</td>\n",
       "    </tr>\n",
       "    <tr>\n",
       "      <th>3</th>\n",
       "      <td>12/26/2024</td>\n",
       "      <td>2,634.43</td>\n",
       "      <td>2,619.79</td>\n",
       "      <td>2,639.40</td>\n",
       "      <td>2,614.13</td>\n",
       "      <td>0.81%</td>\n",
       "    </tr>\n",
       "    <tr>\n",
       "      <th>4</th>\n",
       "      <td>12/24/2024</td>\n",
       "      <td>2,613.20</td>\n",
       "      <td>2,613.07</td>\n",
       "      <td>2,621.83</td>\n",
       "      <td>2,609.92</td>\n",
       "      <td>0.01%</td>\n",
       "    </tr>\n",
       "  </tbody>\n",
       "</table>\n",
       "</div>"
      ],
      "text/plain": [
       "         Date     Price      Open      High       Low Change %\n",
       "0  12/31/2024  2,623.81  2,606.13  2,627.85  2,602.50    0.71%\n",
       "1  12/30/2024  2,605.39  2,620.30  2,628.61  2,595.90   -0.56%\n",
       "2  12/27/2024  2,620.00  2,634.59  2,638.74  2,611.30   -0.55%\n",
       "3  12/26/2024  2,634.43  2,619.79  2,639.40  2,614.13    0.81%\n",
       "4  12/24/2024  2,613.20  2,613.07  2,621.83  2,609.92    0.01%"
      ]
     },
     "execution_count": 24,
     "metadata": {},
     "output_type": "execute_result"
    }
   ],
   "source": [
    "# Drop volume column\n",
    "xauusd = xauusd.drop(columns='Vol.')\n",
    "xauusd.head()"
   ]
  },
  {
   "cell_type": "markdown",
   "id": "bbfd5e91",
   "metadata": {},
   "source": [
    "### Duplicate Rows Handling"
   ]
  },
  {
   "cell_type": "code",
   "execution_count": 25,
   "id": "d5122680",
   "metadata": {},
   "outputs": [
    {
     "data": {
      "text/plain": [
       "1.0"
      ]
     },
     "execution_count": 25,
     "metadata": {},
     "output_type": "execute_result"
    }
   ],
   "source": [
    "# Checking Duplicated Row\n",
    "len(xauusd.drop_duplicates()) / len(xauusd)"
   ]
  },
  {
   "cell_type": "markdown",
   "id": "57a02e15",
   "metadata": {},
   "source": [
    "No duplicated rows"
   ]
  },
  {
   "cell_type": "markdown",
   "id": "55097d75",
   "metadata": {},
   "source": [
    "## Data Manipulation"
   ]
  },
  {
   "cell_type": "code",
   "execution_count": 27,
   "id": "1b70b147",
   "metadata": {},
   "outputs": [
    {
     "name": "stdout",
     "output_type": "stream",
     "text": [
      "<class 'pandas.core.frame.DataFrame'>\n",
      "RangeIndex: 2863 entries, 0 to 2862\n",
      "Data columns (total 6 columns):\n",
      " #   Column    Non-Null Count  Dtype \n",
      "---  ------    --------------  ----- \n",
      " 0   Date      2863 non-null   object\n",
      " 1   Price     2863 non-null   object\n",
      " 2   Open      2863 non-null   object\n",
      " 3   High      2863 non-null   object\n",
      " 4   Low       2863 non-null   object\n",
      " 5   Change %  2863 non-null   object\n",
      "dtypes: object(6)\n",
      "memory usage: 134.3+ KB\n"
     ]
    }
   ],
   "source": [
    "# Check for xauusd types\n",
    "xauusd.info()"
   ]
  },
  {
   "cell_type": "code",
   "execution_count": 28,
   "id": "7e5ea420",
   "metadata": {},
   "outputs": [
    {
     "data": {
      "text/html": [
       "<div>\n",
       "<style scoped>\n",
       "    .dataframe tbody tr th:only-of-type {\n",
       "        vertical-align: middle;\n",
       "    }\n",
       "\n",
       "    .dataframe tbody tr th {\n",
       "        vertical-align: top;\n",
       "    }\n",
       "\n",
       "    .dataframe thead th {\n",
       "        text-align: right;\n",
       "    }\n",
       "</style>\n",
       "<table border=\"1\" class=\"dataframe\">\n",
       "  <thead>\n",
       "    <tr style=\"text-align: right;\">\n",
       "      <th></th>\n",
       "      <th>Date</th>\n",
       "      <th>Price</th>\n",
       "      <th>Open</th>\n",
       "      <th>High</th>\n",
       "      <th>Low</th>\n",
       "      <th>Change %</th>\n",
       "    </tr>\n",
       "  </thead>\n",
       "  <tbody>\n",
       "    <tr>\n",
       "      <th>0</th>\n",
       "      <td>12/31/2024</td>\n",
       "      <td>2623.81</td>\n",
       "      <td>2606.13</td>\n",
       "      <td>2627.85</td>\n",
       "      <td>2602.50</td>\n",
       "      <td>0.0071</td>\n",
       "    </tr>\n",
       "    <tr>\n",
       "      <th>1</th>\n",
       "      <td>12/30/2024</td>\n",
       "      <td>2605.39</td>\n",
       "      <td>2620.30</td>\n",
       "      <td>2628.61</td>\n",
       "      <td>2595.90</td>\n",
       "      <td>-0.0056</td>\n",
       "    </tr>\n",
       "    <tr>\n",
       "      <th>2</th>\n",
       "      <td>12/27/2024</td>\n",
       "      <td>2620.00</td>\n",
       "      <td>2634.59</td>\n",
       "      <td>2638.74</td>\n",
       "      <td>2611.30</td>\n",
       "      <td>-0.0055</td>\n",
       "    </tr>\n",
       "    <tr>\n",
       "      <th>3</th>\n",
       "      <td>12/26/2024</td>\n",
       "      <td>2634.43</td>\n",
       "      <td>2619.79</td>\n",
       "      <td>2639.40</td>\n",
       "      <td>2614.13</td>\n",
       "      <td>0.0081</td>\n",
       "    </tr>\n",
       "    <tr>\n",
       "      <th>4</th>\n",
       "      <td>12/24/2024</td>\n",
       "      <td>2613.20</td>\n",
       "      <td>2613.07</td>\n",
       "      <td>2621.83</td>\n",
       "      <td>2609.92</td>\n",
       "      <td>0.0001</td>\n",
       "    </tr>\n",
       "  </tbody>\n",
       "</table>\n",
       "</div>"
      ],
      "text/plain": [
       "         Date    Price     Open     High      Low  Change %\n",
       "0  12/31/2024  2623.81  2606.13  2627.85  2602.50    0.0071\n",
       "1  12/30/2024  2605.39  2620.30  2628.61  2595.90   -0.0056\n",
       "2  12/27/2024  2620.00  2634.59  2638.74  2611.30   -0.0055\n",
       "3  12/26/2024  2634.43  2619.79  2639.40  2614.13    0.0081\n",
       "4  12/24/2024  2613.20  2613.07  2621.83  2609.92    0.0001"
      ]
     },
     "execution_count": 28,
     "metadata": {},
     "output_type": "execute_result"
    }
   ],
   "source": [
    "# Change xauusd Types\n",
    "\n",
    "xauusd['Price'] =  xauusd['Price'].str.replace(',', '').astype(float)\n",
    "xauusd['Open'] = xauusd['Open'].str.replace(',', '').astype(float)\n",
    "xauusd['High'] = xauusd['High'].str.replace(',', '').astype(float)\n",
    "xauusd['Low'] = xauusd['Low'].str.replace(',', '').astype(float)\n",
    "xauusd['Change %'] = xauusd['Change %'].str.rstrip('%').astype(float) / 100\n",
    "\n",
    "xauusd.head()"
   ]
  },
  {
   "cell_type": "code",
   "execution_count": 29,
   "id": "e91cd7df",
   "metadata": {},
   "outputs": [
    {
     "data": {
      "text/html": [
       "<div>\n",
       "<style scoped>\n",
       "    .dataframe tbody tr th:only-of-type {\n",
       "        vertical-align: middle;\n",
       "    }\n",
       "\n",
       "    .dataframe tbody tr th {\n",
       "        vertical-align: top;\n",
       "    }\n",
       "\n",
       "    .dataframe thead th {\n",
       "        text-align: right;\n",
       "    }\n",
       "</style>\n",
       "<table border=\"1\" class=\"dataframe\">\n",
       "  <thead>\n",
       "    <tr style=\"text-align: right;\">\n",
       "      <th></th>\n",
       "      <th>date</th>\n",
       "      <th>price</th>\n",
       "      <th>open</th>\n",
       "      <th>high</th>\n",
       "      <th>low</th>\n",
       "      <th>change</th>\n",
       "    </tr>\n",
       "  </thead>\n",
       "  <tbody>\n",
       "    <tr>\n",
       "      <th>0</th>\n",
       "      <td>12/31/2024</td>\n",
       "      <td>2623.81</td>\n",
       "      <td>2606.13</td>\n",
       "      <td>2627.85</td>\n",
       "      <td>2602.50</td>\n",
       "      <td>0.0071</td>\n",
       "    </tr>\n",
       "    <tr>\n",
       "      <th>1</th>\n",
       "      <td>12/30/2024</td>\n",
       "      <td>2605.39</td>\n",
       "      <td>2620.30</td>\n",
       "      <td>2628.61</td>\n",
       "      <td>2595.90</td>\n",
       "      <td>-0.0056</td>\n",
       "    </tr>\n",
       "    <tr>\n",
       "      <th>2</th>\n",
       "      <td>12/27/2024</td>\n",
       "      <td>2620.00</td>\n",
       "      <td>2634.59</td>\n",
       "      <td>2638.74</td>\n",
       "      <td>2611.30</td>\n",
       "      <td>-0.0055</td>\n",
       "    </tr>\n",
       "    <tr>\n",
       "      <th>3</th>\n",
       "      <td>12/26/2024</td>\n",
       "      <td>2634.43</td>\n",
       "      <td>2619.79</td>\n",
       "      <td>2639.40</td>\n",
       "      <td>2614.13</td>\n",
       "      <td>0.0081</td>\n",
       "    </tr>\n",
       "    <tr>\n",
       "      <th>4</th>\n",
       "      <td>12/24/2024</td>\n",
       "      <td>2613.20</td>\n",
       "      <td>2613.07</td>\n",
       "      <td>2621.83</td>\n",
       "      <td>2609.92</td>\n",
       "      <td>0.0001</td>\n",
       "    </tr>\n",
       "  </tbody>\n",
       "</table>\n",
       "</div>"
      ],
      "text/plain": [
       "         date    price     open     high      low  change\n",
       "0  12/31/2024  2623.81  2606.13  2627.85  2602.50  0.0071\n",
       "1  12/30/2024  2605.39  2620.30  2628.61  2595.90 -0.0056\n",
       "2  12/27/2024  2620.00  2634.59  2638.74  2611.30 -0.0055\n",
       "3  12/26/2024  2634.43  2619.79  2639.40  2614.13  0.0081\n",
       "4  12/24/2024  2613.20  2613.07  2621.83  2609.92  0.0001"
      ]
     },
     "execution_count": 29,
     "metadata": {},
     "output_type": "execute_result"
    }
   ],
   "source": [
    "# Change the column name to lowercase and remove the percentage symbol for easier\n",
    "xauusd = xauusd.rename(columns={'Change %' : 'Change'}, errors='raise')\n",
    "xauusd = xauusd.rename(str.lower, axis='columns')\n",
    "xauusd.head()"
   ]
  },
  {
   "cell_type": "code",
   "execution_count": 30,
   "id": "a5225d85",
   "metadata": {},
   "outputs": [
    {
     "name": "stdout",
     "output_type": "stream",
     "text": [
      "<class 'pandas.core.frame.DataFrame'>\n",
      "RangeIndex: 2863 entries, 0 to 2862\n",
      "Data columns (total 6 columns):\n",
      " #   Column  Non-Null Count  Dtype         \n",
      "---  ------  --------------  -----         \n",
      " 0   date    2863 non-null   datetime64[ns]\n",
      " 1   price   2863 non-null   float64       \n",
      " 2   open    2863 non-null   float64       \n",
      " 3   high    2863 non-null   float64       \n",
      " 4   low     2863 non-null   float64       \n",
      " 5   change  2863 non-null   float64       \n",
      "dtypes: datetime64[ns](1), float64(5)\n",
      "memory usage: 134.3 KB\n"
     ]
    }
   ],
   "source": [
    "# Date to datetime\n",
    "\n",
    "xauusd['date'] = pd.to_datetime(xauusd['date'])\n",
    "xauusd.info()"
   ]
  },
  {
   "cell_type": "code",
   "execution_count": 33,
   "id": "c83e1b01",
   "metadata": {},
   "outputs": [
    {
     "data": {
      "text/html": [
       "<div>\n",
       "<style scoped>\n",
       "    .dataframe tbody tr th:only-of-type {\n",
       "        vertical-align: middle;\n",
       "    }\n",
       "\n",
       "    .dataframe tbody tr th {\n",
       "        vertical-align: top;\n",
       "    }\n",
       "\n",
       "    .dataframe thead th {\n",
       "        text-align: right;\n",
       "    }\n",
       "</style>\n",
       "<table border=\"1\" class=\"dataframe\">\n",
       "  <thead>\n",
       "    <tr style=\"text-align: right;\">\n",
       "      <th></th>\n",
       "      <th>date</th>\n",
       "      <th>price</th>\n",
       "      <th>open</th>\n",
       "      <th>high</th>\n",
       "      <th>low</th>\n",
       "      <th>change</th>\n",
       "    </tr>\n",
       "  </thead>\n",
       "  <tbody>\n",
       "    <tr>\n",
       "      <th>0</th>\n",
       "      <td>2024-12-31</td>\n",
       "      <td>2623.81</td>\n",
       "      <td>2606.13</td>\n",
       "      <td>2627.85</td>\n",
       "      <td>2602.50</td>\n",
       "      <td>0.0071</td>\n",
       "    </tr>\n",
       "    <tr>\n",
       "      <th>1</th>\n",
       "      <td>2024-12-30</td>\n",
       "      <td>2605.39</td>\n",
       "      <td>2620.30</td>\n",
       "      <td>2628.61</td>\n",
       "      <td>2595.90</td>\n",
       "      <td>-0.0056</td>\n",
       "    </tr>\n",
       "    <tr>\n",
       "      <th>2</th>\n",
       "      <td>2024-12-27</td>\n",
       "      <td>2620.00</td>\n",
       "      <td>2634.59</td>\n",
       "      <td>2638.74</td>\n",
       "      <td>2611.30</td>\n",
       "      <td>-0.0055</td>\n",
       "    </tr>\n",
       "    <tr>\n",
       "      <th>3</th>\n",
       "      <td>2024-12-26</td>\n",
       "      <td>2634.43</td>\n",
       "      <td>2619.79</td>\n",
       "      <td>2639.40</td>\n",
       "      <td>2614.13</td>\n",
       "      <td>0.0081</td>\n",
       "    </tr>\n",
       "    <tr>\n",
       "      <th>4</th>\n",
       "      <td>2024-12-24</td>\n",
       "      <td>2613.20</td>\n",
       "      <td>2613.07</td>\n",
       "      <td>2621.83</td>\n",
       "      <td>2609.92</td>\n",
       "      <td>0.0001</td>\n",
       "    </tr>\n",
       "  </tbody>\n",
       "</table>\n",
       "</div>"
      ],
      "text/plain": [
       "        date    price     open     high      low  change\n",
       "0 2024-12-31  2623.81  2606.13  2627.85  2602.50  0.0071\n",
       "1 2024-12-30  2605.39  2620.30  2628.61  2595.90 -0.0056\n",
       "2 2024-12-27  2620.00  2634.59  2638.74  2611.30 -0.0055\n",
       "3 2024-12-26  2634.43  2619.79  2639.40  2614.13  0.0081\n",
       "4 2024-12-24  2613.20  2613.07  2621.83  2609.92  0.0001"
      ]
     },
     "execution_count": 33,
     "metadata": {},
     "output_type": "execute_result"
    }
   ],
   "source": [
    "xauusd.head()"
   ]
  },
  {
   "cell_type": "markdown",
   "id": "634852de",
   "metadata": {},
   "source": [
    "## Outlier Checking"
   ]
  },
  {
   "cell_type": "code",
   "execution_count": 34,
   "id": "11abd935",
   "metadata": {},
   "outputs": [
    {
     "data": {
      "image/png": "[encoded data removed]",
      "text/plain": [
       "<Figure size 1200x600 with 5 Axes>"
      ]
     },
     "metadata": {},
     "output_type": "display_data"
    }
   ],
   "source": [
    "# Check for outlier\n",
    "cols = ['price', 'open', 'high', 'low', 'change']\n",
    "\n",
    "plt.figure(figsize=(12,6))\n",
    "for i in range(0, len(cols)):\n",
    "    plt.subplot(1, len(cols), i+1)\n",
    "    sns.boxplot(y=xauusd[cols[i]], color='red')\n",
    "    plt.tight_layout()"
   ]
  },
  {
   "cell_type": "markdown",
   "id": "51d5c30d",
   "metadata": {},
   "source": [
    "As we can see the xauusd is quite clean and no need for outlier handling considering the financial market is very volatile"
   ]
  },
  {
   "cell_type": "markdown",
   "id": "3f1510ef",
   "metadata": {},
   "source": [
    "## Extract the clean XAUUSD data into csv file"
   ]
  },
  {
   "cell_type": "code",
   "execution_count": 35,
   "id": "03c6f691",
   "metadata": {},
   "outputs": [],
   "source": [
    "xauusd.to_csv('clean_xauusd.csv', index=False)"
   ]
  }
 ],
 "metadata": {
  "kernelspec": {
   "display_name": "Python 3",
   "language": "python",
   "name": "python3"
  },
  "language_info": {
   "codemirror_mode": {
    "name": "ipython",
    "version": 3
   },
   "file_extension": ".py",
   "mimetype": "text/x-python",
   "name": "python",
   "nbconvert_exporter": "python",
   "pygments_lexer": "ipython3",
   "version": "3.13.1"
  }
 },
 "nbformat": 4,
 "nbformat_minor": 5
}
